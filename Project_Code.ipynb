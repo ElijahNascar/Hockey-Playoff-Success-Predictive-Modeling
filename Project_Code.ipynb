{
 "cells": [
  {
   "cell_type": "raw",
   "id": "33dd6c4c",
   "metadata": {},
   "source": [
    "---\n",
    "title: \"Project Code\"\n",
    "subtitle: Krish's Fanclub\n",
    "author: Tess Wagner, Sam Sword, Jack McNally, and Eli Nacar \n",
    "date: 03/13/2023\n",
    "number-sections: true\n",
    "abstract: _This file contains the code for the project on <>, as part of the STAT303-2 course in Winter 2023_.\n",
    "format: \n",
    "  html:\n",
    "    toc: true\n",
    "    toc-title: Contents\n",
    "    self-contained: true\n",
    "    font-size: 100%\n",
    "    toc-depth: 4\n",
    "    mainfont: serif\n",
    "jupyter: python3\n",
    "---"
   ]
  },
  {
   "cell_type": "markdown",
   "id": "aba5ee91",
   "metadata": {},
   "source": [
    "## Length of the code {-}\n",
    "No restriction\n",
    "\n",
    "**Delete this section from the report, when using this template.** "
   ]
  },
  {
   "cell_type": "code",
   "execution_count": 13,
   "id": "2a94509f",
   "metadata": {},
   "outputs": [],
   "source": [
    "# loading libraries\n",
    "import pandas as pd\n",
    "import numpy as np"
   ]
  },
  {
   "cell_type": "code",
   "execution_count": 2,
   "id": "fff2d4ec",
   "metadata": {},
   "outputs": [],
   "source": [
    "# loading data\n",
    "games = pd.read_csv(\"data_raw/game.csv\")\n",
    "team_info = pd.read_csv(\"data_raw/team_info.csv\")"
   ]
  },
  {
   "cell_type": "markdown",
   "id": "fe7ea9bb",
   "metadata": {},
   "source": [
    "## Data quality check / cleaning / preparation \n",
    "\n",
    "Put code with comments. The comments should explain the code such that it can be easily understood. You may put text *(in a markdown cell)* before a large chunk of code to explain the overall purpose of the code, if it is not intuitive. **Put the name of the person / persons who contributed to each code chunk / set of code chunks.** An example is given below."
   ]
  },
  {
   "cell_type": "markdown",
   "id": "db149d8b",
   "metadata": {},
   "source": [
    "### Data quality check\n",
    "*By Elton John*"
   ]
  },
  {
   "cell_type": "markdown",
   "id": "fbc82e7f",
   "metadata": {},
   "source": [
    "The code below visualizes the distribution of all the variables in the dataset, and their association with the response."
   ]
  },
  {
   "cell_type": "code",
   "execution_count": 7,
   "id": "5955618d",
   "metadata": {},
   "outputs": [],
   "source": [
    "#...Distribution of continuous variables...#"
   ]
  },
  {
   "cell_type": "code",
   "execution_count": 8,
   "id": "8faafdbf",
   "metadata": {},
   "outputs": [],
   "source": [
    "#...Distribution of categorical variables...#"
   ]
  },
  {
   "cell_type": "code",
   "execution_count": 9,
   "id": "e389f4ef",
   "metadata": {},
   "outputs": [],
   "source": [
    "#...Association of the response with the predictors...#"
   ]
  },
  {
   "cell_type": "markdown",
   "id": "d1561829",
   "metadata": {},
   "source": [
    "### Data cleaning\n",
    "*By Tess Wagner*\n",
    "\n",
    "From the data quality check we realized that:\n",
    "\n",
    "1. We needed to keep data only from the games of the ten seasons we wanted to use to build our model. We are keeping data from the 2007-08 season through the 2017-18 season. \n",
    "2. We can drop the columns in `game.csv` and `team_info.csv` that we know we will not use (`venue_link`, `franchiseId`, `abbreviation`, `link`).\n",
    "3. To get a full team name, we combined the variables `teamName` and `shortName` (and fixed the NY team names).\n",
    "4. To make it easier to identify which team played which games, we replaced `team_id` (a numerical value) in the game dataset with `team_name` from the team info dataset.\n",
    "5. We separated the games dataset into regular season games so that we do not factor playoff game data into our model.\n",
    "6. We dropped `team_id` from the team names dataset as it is no longer useful.\n",
    "\n",
    "The code below implements the above cleaning."
   ]
  },
  {
   "cell_type": "code",
   "execution_count": 3,
   "id": "46f73626",
   "metadata": {},
   "outputs": [],
   "source": [
    "games = pd.read_csv(\"data_raw/game.csv\")\n",
    "team_info = pd.read_csv(\"data_raw/team_info.csv\")"
   ]
  },
  {
   "cell_type": "code",
   "execution_count": 4,
   "id": "4e254db9",
   "metadata": {},
   "outputs": [],
   "source": [
    "games = games[(games['season'] >= 20072008) & (games['season'] <= 20172018)].sort_values('season')"
   ]
  },
  {
   "cell_type": "code",
   "execution_count": 5,
   "id": "15e3e223",
   "metadata": {},
   "outputs": [],
   "source": [
    "games.drop('venue_link', axis = 1, inplace = True)\n",
    "team_info.drop(['franchiseId', 'abbreviation', 'link'], axis = 1, inplace = True)"
   ]
  },
  {
   "cell_type": "code",
   "execution_count": 9,
   "id": "00879aba",
   "metadata": {},
   "outputs": [],
   "source": [
    "team_info['team_name'] = team_info['shortName'] + ' ' + team_info['teamName']\n",
    "team_info.replace(['NY Rangers Rangers', 'NY Islanders Islanders'], ['New York Rangers', 'New York Islanders'], inplace = True)\n",
    "team_info.drop(['shortName', 'teamName'], axis = 1, inplace = True)"
   ]
  },
  {
   "cell_type": "code",
   "execution_count": 11,
   "id": "e0185580",
   "metadata": {},
   "outputs": [],
   "source": [
    "list_of_ids = team_info['team_id'].values\n",
    "\n",
    "for Id in list_of_ids:\n",
    "    games.away_team_id.replace(Id, team_info[team_info['team_id'] == Id]['team_name'].values[0], inplace = True)\n",
    "    games.home_team_id.replace(Id, team_info[team_info['team_id'] == Id]['team_name'].values[0], inplace = True)"
   ]
  },
  {
   "cell_type": "code",
   "execution_count": 18,
   "id": "9e17f28a",
   "metadata": {},
   "outputs": [],
   "source": [
    "regular_season_games = games[games['type'] == 'R']"
   ]
  },
  {
   "cell_type": "code",
   "execution_count": null,
   "id": "ac164a06",
   "metadata": {},
   "outputs": [],
   "source": [
    "team_names = team_info.drop('team_id', axis = 1)"
   ]
  },
  {
   "cell_type": "markdown",
   "id": "9b91a14e",
   "metadata": {},
   "source": [
    "### Data preparation\n",
    "*By Sankaranarayanan Balasubramanian and Chun-Li*\n",
    "\n",
    "The following data preparation steps helped us to prepare our data for implementing various modeling / validation techniques:\n",
    "\n",
    "1. Since we need to predict house price, we derived some new predictors *(from existing predictors)* that intuitively seem to be helpuful to predict house price. \n",
    "\n",
    "2. We have shuffled the dataset to prepare it for K-fold cross validation.\n",
    "\n",
    "3. We have created a standardized version of the dataset, as we will use it to develop Lasso / Ridge regression models."
   ]
  },
  {
   "cell_type": "code",
   "execution_count": 3,
   "id": "77b2b85a",
   "metadata": {},
   "outputs": [],
   "source": [
    "######---------------Creating new predictors----------------#########\n",
    "\n",
    "#Creating number of bedrooms per unit floor area\n",
    "\n",
    "#Creating ratio of bathrooms to bedrooms\n",
    "\n",
    "#Creating ratio of carpet area to floor area"
   ]
  },
  {
   "cell_type": "code",
   "execution_count": null,
   "id": "e4e04063",
   "metadata": {},
   "outputs": [],
   "source": [
    "######-----------Shuffling the dataset for K-fold------------#########"
   ]
  },
  {
   "cell_type": "code",
   "execution_count": null,
   "id": "2cecc4d7",
   "metadata": {},
   "outputs": [],
   "source": [
    "######-----Standardizing the dataset for Lasso / Ridge-------#########"
   ]
  },
  {
   "cell_type": "markdown",
   "id": "fbb11c9b",
   "metadata": {},
   "source": [
    "## Exploratory data analysis"
   ]
  },
  {
   "cell_type": "markdown",
   "id": "e4bd74a9",
   "metadata": {},
   "source": [
    "Put code with comments. The comments should explain the code such that it can be easily understood. You may put text *(in a markdown cell)* before a large chunk of code to explain the overall purpose of the code, if it is not intuitive. **Put the name of the person / persons who contributed to each code chunk / set of code chunks.**"
   ]
  },
  {
   "cell_type": "markdown",
   "id": "acab331a",
   "metadata": {},
   "source": [
    "## Developing the model"
   ]
  },
  {
   "cell_type": "markdown",
   "id": "ae5ec4c9",
   "metadata": {},
   "source": [
    "Put code with comments. The comments should explain the code such that it can be easily understood. You may put text *(in a markdown cell)* before a large chunk of code to explain the overall purpose of the code, if it is not intuitive. **Put the name of the person / persons who contributed to each code chunk / set of code chunks.**"
   ]
  },
  {
   "cell_type": "markdown",
   "id": "6444e611",
   "metadata": {},
   "source": [
    "### Code fitting the final model"
   ]
  },
  {
   "cell_type": "markdown",
   "id": "f6cae72f",
   "metadata": {},
   "source": [
    "Put the code(s) that fit the final model(s) in separate cell(s), i.e., the code with the `.ols()` or `.logit()` functions."
   ]
  },
  {
   "cell_type": "markdown",
   "id": "62a185cb",
   "metadata": {},
   "source": [
    "## Conclusions and Recommendations to stakeholder(s)\n",
    "\n",
    "You may or may not have code to put in this section. Delete this section if it is irrelevant."
   ]
  }
 ],
 "metadata": {
  "kernelspec": {
   "display_name": "Python 3 (ipykernel)",
   "language": "python",
   "name": "python3"
  },
  "language_info": {
   "codemirror_mode": {
    "name": "ipython",
    "version": 3
   },
   "file_extension": ".py",
   "mimetype": "text/x-python",
   "name": "python",
   "nbconvert_exporter": "python",
   "pygments_lexer": "ipython3",
   "version": "3.9.12"
  }
 },
 "nbformat": 4,
 "nbformat_minor": 5
}
