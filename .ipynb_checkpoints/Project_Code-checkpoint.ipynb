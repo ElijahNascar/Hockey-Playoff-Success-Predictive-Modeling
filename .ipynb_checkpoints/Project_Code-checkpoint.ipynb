{
 "cells": [
  {
   "cell_type": "raw",
   "id": "33dd6c4c",
   "metadata": {},
   "source": [
    "---\n",
    "title: \"Project Code\"\n",
    "subtitle: Krish's Fanclub\n",
    "author: Tess Wagner, Sam Sword, Jack McNally, and Eli Nacar \n",
    "date: 03/13/2023\n",
    "number-sections: true\n",
    "abstract: _This file contains the code for the project on <>, as part of the STAT303-2 course in Winter 2023_.\n",
    "format: \n",
    "  html:\n",
    "    toc: true\n",
    "    toc-title: Contents\n",
    "    self-contained: true\n",
    "    font-size: 100%\n",
    "    toc-depth: 4\n",
    "    mainfont: serif\n",
    "jupyter: python3\n",
    "---"
   ]
  },
  {
   "cell_type": "markdown",
   "id": "aba5ee91",
   "metadata": {},
   "source": [
    "## Length of the code {-}\n",
    "No restriction\n",
    "\n",
    "**Delete this section from the report, when using this template.** "
   ]
  },
  {
   "cell_type": "code",
   "execution_count": 1,
   "id": "2a94509f",
   "metadata": {},
   "outputs": [],
   "source": [
    "# loading libraries\n",
    "import pandas as pd\n",
    "import numpy as np"
   ]
  },
  {
   "cell_type": "code",
   "execution_count": 15,
   "id": "fff2d4ec",
   "metadata": {},
   "outputs": [],
   "source": [
    "# loading data\n",
    "games = pd.read_csv(\"data_raw/game.csv\")\n",
    "team_info = pd.read_csv(\"data_raw/team_info.csv\")"
   ]
  },
  {
   "cell_type": "markdown",
   "id": "fe7ea9bb",
   "metadata": {},
   "source": [
    "## Data quality check / cleaning / preparation \n",
    "\n",
    "Put code with comments. The comments should explain the code such that it can be easily understood. You may put text *(in a markdown cell)* before a large chunk of code to explain the overall purpose of the code, if it is not intuitive. **Put the name of the person / persons who contributed to each code chunk / set of code chunks.** An example is given below."
   ]
  },
  {
   "cell_type": "markdown",
   "id": "db149d8b",
   "metadata": {},
   "source": [
    "### Data quality check\n",
    "*By Tess Wagner*"
   ]
  },
  {
   "cell_type": "markdown",
   "id": "fbc82e7f",
   "metadata": {},
   "source": [
    "The code below visualizes the distribution of all the variables in the dataset, and their association with the response."
   ]
  },
  {
   "cell_type": "code",
   "execution_count": 3,
   "id": "5955618d",
   "metadata": {},
   "outputs": [],
   "source": [
    "#...Distribution of continuous variables...#"
   ]
  },
  {
   "cell_type": "code",
   "execution_count": 4,
   "id": "8faafdbf",
   "metadata": {},
   "outputs": [],
   "source": [
    "#...Distribution of categorical variables...#"
   ]
  },
  {
   "cell_type": "code",
   "execution_count": 5,
   "id": "e389f4ef",
   "metadata": {},
   "outputs": [],
   "source": [
    "#...Association of the response with the predictors...#"
   ]
  },
  {
   "cell_type": "markdown",
   "id": "d1561829",
   "metadata": {},
   "source": [
    "### Data cleaning\n",
    "*By Tess Wagner*\n",
    "\n",
    "From the data quality check we realized that:\n",
    "\n",
    "1. We needed to keep data only from the games of the ten seasons we wanted to use to build our model. We are keeping data from the 2007-08 season through the 2017-18 season. \n",
    "2. We can drop the columns in `game.csv` and `team_info.csv` that we know we will not use (`venue_link`, `franchiseId`, `abbreviation`, `link`).\n",
    "3. To get a full team name, we combined the variables `teamName` and `shortName` (and fixed the NY team names).\n",
    "4. To make it easier to identify which team played which games, we replaced `team_id` (a numerical value) in the game dataset with `team_name` from the team info dataset.\n",
    "5. We separated the games dataset into regular season games so that we do not factor playoff game data into our model. \n",
    "6. We dropped `team_id` from the team names dataset as it is no longer useful.\n",
    "7. Next, we wanted to get datasets for each season with each team's stats. We began by creating new columns with away and home wins and away and home losses. \n",
    "8. Then we separated the regular season game data into separate dataframes - one for each season. We also created the same amount of dataframes with just team names so that we can later fill in the season statistics data into these mostly empty dataframes.\n",
    "9. After that, we created some functions to fill in the team season statistics dataframes with predictors that we might be interested in.\n",
    "10. Then we got lists of all of the teams that made the playoffs in each season.\n",
    "\n",
    "The code below implements the above cleaning."
   ]
  },
  {
   "cell_type": "code",
   "execution_count": 16,
   "id": "46f73626",
   "metadata": {},
   "outputs": [],
   "source": [
    "games = pd.read_csv(\"data_raw/game.csv\")\n",
    "team_info = pd.read_csv(\"data_raw/team_info.csv\")"
   ]
  },
  {
   "cell_type": "code",
   "execution_count": 17,
   "id": "4e254db9",
   "metadata": {},
   "outputs": [],
   "source": [
    "games = games[(games['season'] >= 20072008) & (games['season'] <= 20172018)].sort_values('season')"
   ]
  },
  {
   "cell_type": "code",
   "execution_count": 18,
   "id": "15e3e223",
   "metadata": {},
   "outputs": [],
   "source": [
    "games.drop('venue_link', axis = 1, inplace = True)\n",
    "team_info.drop(['franchiseId', 'abbreviation', 'link'], axis = 1, inplace = True)"
   ]
  },
  {
   "cell_type": "code",
   "execution_count": 19,
   "id": "00879aba",
   "metadata": {},
   "outputs": [],
   "source": [
    "team_info['team_name'] = team_info['shortName'] + ' ' + team_info['teamName']\n",
    "team_info.replace(['NY Rangers Rangers', 'NY Islanders Islanders'], ['New York Rangers', 'New York Islanders'], inplace = True)\n",
    "team_info.drop(['shortName', 'teamName'], axis = 1, inplace = True)"
   ]
  },
  {
   "cell_type": "code",
   "execution_count": 20,
   "id": "e0185580",
   "metadata": {},
   "outputs": [],
   "source": [
    "list_of_ids = team_info['team_id'].values\n",
    "\n",
    "for Id in list_of_ids:\n",
    "    games.away_team_id.replace(Id, team_info[team_info['team_id'] == Id]['team_name'].values[0], inplace = True)\n",
    "    games.home_team_id.replace(Id, team_info[team_info['team_id'] == Id]['team_name'].values[0], inplace = True)"
   ]
  },
  {
   "cell_type": "code",
   "execution_count": 30,
   "id": "9e17f28a",
   "metadata": {},
   "outputs": [],
   "source": [
    "regular_season_games = games[games['type'] == 'R']"
   ]
  },
  {
   "cell_type": "code",
   "execution_count": 26,
   "id": "ac164a06",
   "metadata": {},
   "outputs": [],
   "source": [
    "team_names = team_info.drop('team_id', axis = 1)"
   ]
  },
  {
   "cell_type": "code",
   "execution_count": 31,
   "id": "6d76e2ab",
   "metadata": {},
   "outputs": [
    {
     "name": "stderr",
     "output_type": "stream",
     "text": [
      "C:\\Users\\csky2\\AppData\\Local\\Temp\\ipykernel_85908\\1972072309.py:1: SettingWithCopyWarning: \n",
      "A value is trying to be set on a copy of a slice from a DataFrame.\n",
      "Try using .loc[row_indexer,col_indexer] = value instead\n",
      "\n",
      "See the caveats in the documentation: https://pandas.pydata.org/pandas-docs/stable/user_guide/indexing.html#returning-a-view-versus-a-copy\n",
      "  regular_season_games['away_wins'] = regular_season_games.loc[regular_season_games.outcome.isin(['away win OT', 'away win REG']), 'away_team_id']\n",
      "C:\\Users\\csky2\\AppData\\Local\\Temp\\ipykernel_85908\\1972072309.py:2: SettingWithCopyWarning: \n",
      "A value is trying to be set on a copy of a slice from a DataFrame.\n",
      "Try using .loc[row_indexer,col_indexer] = value instead\n",
      "\n",
      "See the caveats in the documentation: https://pandas.pydata.org/pandas-docs/stable/user_guide/indexing.html#returning-a-view-versus-a-copy\n",
      "  regular_season_games['home_wins'] = regular_season_games.loc[regular_season_games.outcome.isin(['home win OT', 'home win REG']), 'home_team_id']\n",
      "C:\\Users\\csky2\\AppData\\Local\\Temp\\ipykernel_85908\\1972072309.py:3: SettingWithCopyWarning: \n",
      "A value is trying to be set on a copy of a slice from a DataFrame.\n",
      "Try using .loc[row_indexer,col_indexer] = value instead\n",
      "\n",
      "See the caveats in the documentation: https://pandas.pydata.org/pandas-docs/stable/user_guide/indexing.html#returning-a-view-versus-a-copy\n",
      "  regular_season_games['away_losses'] = regular_season_games.loc[regular_season_games.outcome.isin(['home win OT', 'home win REG']), 'away_team_id']\n",
      "C:\\Users\\csky2\\AppData\\Local\\Temp\\ipykernel_85908\\1972072309.py:4: SettingWithCopyWarning: \n",
      "A value is trying to be set on a copy of a slice from a DataFrame.\n",
      "Try using .loc[row_indexer,col_indexer] = value instead\n",
      "\n",
      "See the caveats in the documentation: https://pandas.pydata.org/pandas-docs/stable/user_guide/indexing.html#returning-a-view-versus-a-copy\n",
      "  regular_season_games['home_losses'] = regular_season_games.loc[regular_season_games.outcome.isin(['away win OT', 'away win REG']), 'home_team_id']\n"
     ]
    }
   ],
   "source": [
    "regular_season_games['away_wins'] = regular_season_games.loc[regular_season_games.outcome.isin(['away win OT', 'away win REG']), 'away_team_id']\n",
    "regular_season_games['home_wins'] = regular_season_games.loc[regular_season_games.outcome.isin(['home win OT', 'home win REG']), 'home_team_id']\n",
    "regular_season_games['away_losses'] = regular_season_games.loc[regular_season_games.outcome.isin(['home win OT', 'home win REG']), 'away_team_id']\n",
    "regular_season_games['home_losses'] = regular_season_games.loc[regular_season_games.outcome.isin(['away win OT', 'away win REG']), 'home_team_id']"
   ]
  },
  {
   "cell_type": "code",
   "execution_count": 32,
   "id": "8c6f0dff",
   "metadata": {},
   "outputs": [],
   "source": [
    "games_07_08 = regular_season_games[regular_season_games['season'] == 20072008]\n",
    "games_08_09 = regular_season_games[regular_season_games['season'] == 20082009]\n",
    "games_09_10 = regular_season_games[regular_season_games['season'] == 20092010]\n",
    "games_10_11 = regular_season_games[regular_season_games['season'] == 20102011]\n",
    "games_11_12 = regular_season_games[regular_season_games['season'] == 20112012]\n",
    "games_13_14 = regular_season_games[regular_season_games['season'] == 20132014]\n",
    "games_14_15 = regular_season_games[regular_season_games['season'] == 20142015]\n",
    "games_15_16 = regular_season_games[regular_season_games['season'] == 20152016]\n",
    "games_16_17 = regular_season_games[regular_season_games['season'] == 20162017]\n",
    "games_17_18 = regular_season_games[regular_season_games['season'] == 20172018]"
   ]
  },
  {
   "cell_type": "code",
   "execution_count": 34,
   "id": "78fc4092",
   "metadata": {},
   "outputs": [],
   "source": [
    "teams_07_08 = team_names.copy()\n",
    "teams_08_09 = team_names.copy()\n",
    "teams_09_10 = team_names.copy()\n",
    "teams_10_11 = team_names.copy()\n",
    "teams_11_12 = team_names.copy()\n",
    "teams_13_14 = team_names.copy()\n",
    "teams_14_15 = team_names.copy()\n",
    "teams_15_16 = team_names.copy()\n",
    "teams_16_17 = team_names.copy()\n",
    "teams_17_18 = team_names.copy()"
   ]
  },
  {
   "cell_type": "code",
   "execution_count": 42,
   "id": "d560cd7e",
   "metadata": {},
   "outputs": [],
   "source": [
    "list_of_conditions = ['away_wins', 'home_wins', 'away_losses', 'home_losses']\n",
    "list_of_teams = team_names.team_name.values\n",
    "\n",
    "def get_counts(games_df, team_df):\n",
    "    for condition in list_of_conditions:\n",
    "        for team in list_of_teams: \n",
    "            team_df.loc[team_df.team_name.isin([team]), condition] = len(games_df[games_df[condition] == team])\n",
    "            \n",
    "def _total_goals_scored(team, games_df):\n",
    "    return games_df.loc[games_df.away_team_id.isin([team]), 'away_goals'].sum() + games_df.loc[games_df.home_team_id.isin([team]), 'home_goals'].sum()\n",
    "\n",
    "def _total_goals_against(team, games_df):\n",
    "    return games_df.loc[games_df.away_team_id.isin([team]), 'home_goals'].sum() + games_df.loc[games_df.home_team_id.isin([team]), 'away_goals'].sum()\n",
    "\n",
    "def get_goal_counts(games_df, team_df):\n",
    "    for team in list_of_teams:\n",
    "        team_df.loc[team_df.team_name.isin([team]), 'total_goals_scored'] = _total_goals_scored(team, games_df)\n",
    "        team_df.loc[team_df.team_name.isin([team]), 'total_goals_against'] = _total_goals_against(team, games_df)\n",
    "        \n",
    "def get_goal_diff(games_df, team_df):\n",
    "    for team in list_of_teams:\n",
    "        team_df.loc[team_df.team_name.isin([team]), 'goal_diff'] = (team_df.loc[team_df.team_name.isin([team]), 'total_goals_scored']) - (team_df.loc[team_df.team_name.isin([team]), 'total_goals_against'])\n",
    "        \n",
    "def make_playoff_team(list_of_teams, team_df):\n",
    "    team_df.made_playoffs.fillna(value = 'No', inplace = True)\n",
    "    for team in list_of_teams: \n",
    "        team_df.loc[team_df.team_name.isin([team]), 'made_playoffs'] = 'Yes'"
   ]
  },
  {
   "cell_type": "code",
   "execution_count": 37,
   "id": "c383fe12",
   "metadata": {},
   "outputs": [],
   "source": [
    "get_counts(games_07_08, teams_07_08)\n",
    "get_counts(games_08_09, teams_08_09)\n",
    "get_counts(games_09_10, teams_09_10)\n",
    "get_counts(games_10_11, teams_10_11)\n",
    "get_counts(games_11_12, teams_11_12)\n",
    "get_counts(games_13_14, teams_13_14)\n",
    "get_counts(games_14_15, teams_14_15)\n",
    "get_counts(games_15_16, teams_15_16)\n",
    "get_counts(games_16_17, teams_16_17)\n",
    "get_counts(games_17_18, teams_17_18)\n",
    "\n",
    "get_goal_counts(games_07_08, teams_07_08)\n",
    "get_goal_counts(games_08_09, teams_08_09)\n",
    "get_goal_counts(games_09_10, teams_09_10)\n",
    "get_goal_counts(games_10_11, teams_10_11)\n",
    "get_goal_counts(games_11_12, teams_11_12)\n",
    "get_goal_counts(games_13_14, teams_13_14)\n",
    "get_goal_counts(games_14_15, teams_14_15)\n",
    "get_goal_counts(games_15_16, teams_15_16)\n",
    "get_goal_counts(games_16_17, teams_16_17)\n",
    "get_goal_counts(games_17_18, teams_17_18)\n",
    "\n",
    "get_goal_diff(games_07_08, teams_07_08)\n",
    "get_goal_diff(games_08_09, teams_08_09)\n",
    "get_goal_diff(games_09_10, teams_09_10)\n",
    "get_goal_diff(games_10_11, teams_10_11)\n",
    "get_goal_diff(games_11_12, teams_11_12)\n",
    "get_goal_diff(games_13_14, teams_13_14)\n",
    "get_goal_diff(games_14_15, teams_14_15)\n",
    "get_goal_diff(games_15_16, teams_15_16)\n",
    "get_goal_diff(games_16_17, teams_16_17)\n",
    "get_goal_diff(games_17_18, teams_17_18)"
   ]
  },
  {
   "cell_type": "code",
   "execution_count": 39,
   "id": "e985dad5",
   "metadata": {},
   "outputs": [],
   "source": [
    "playoffs_07_08 = ['Anaheim Ducks','Boston Bruins','Calgary Flames','Colorado Avalanche','Dallas Stars','Detroit Red Wings','Minnesota Wild','Montreal Canadiens','Nashville Predators','New Jersey Devils','New York Rangers','Ottawa Senators','Philadelphia Flyers','Pittsburgh Penguins','San Jose Sharks','Washington Capitals']\n",
    "playoffs_08_09 = ['Pittsburgh Penguins','Detroit Red Wings','Chicago Blackhawks','Carolina Hurricanes','Boston Bruins','Anaheim Ducks','Washington Capitals','Vancouver Canucks','New Jersey Devils','New York Rangers','Philadelphia Flyers','Calgary Flames','San Jose Sharks','St Louis Blues','Montreal Canadiens','Columbus Blue Jackets']\n",
    "playoffs_09_10 = ['Chicago Blackhawks','Philadelphia Flyers','Montreal Canadiens','San Jose Sharks','Pittsburgh Penguins','Boston Bruins','Vancouver Canucks','Detroit Red Wings','Phoenix Coyotes','Washington Capitals','Ottawa Senators','Colorado Avalanche','Buffalo Sabres','Los Angeles Kings','Nashville Predators','New Jersey Devils']\n",
    "playoffs_10_11 = ['San Jose Sharks','Boston Bruins','Vancouver Canucks','Nashville Predators','Washington Capitals','Tampa Bay Lightning','Philadelphia Flyers','Pittsburgh Penguins','Chicago Blackhawks','Buffalo Sabres','Detroit Red Wings','Montreal Canadiens','Anaheim Ducks','Los Angeles Kings','New York Rangers','Phoenix Coyotes']\n",
    "playoffs_11_12 = ['Los Angeles Kings','New Jersey Devils','New York Rangers','Phoenix Coyotes','Washington Capitals','Nashville Predators','Philadelphia Flyers','St Louis Blues','Boston Bruins','Ottawa Senators','Florida Panthers','Pittsburgh Penguins','Chicago Blackhawks','Detroit Red Wings','Vancouver Canucks','San Jose Sharks']\n",
    "playoffs_13_14 = ['Los Angeles Kings','New York Rangers','Chicago Blackhawks','Montreal Canadiens','Boston Bruins','Anaheim Ducks','Pittsburgh Penguins','Minnesota Wild','Colorado Avalanche','Philadelphia Flyers','San Jose Sharks','Dallas Stars','Columbus Blue Jackets','St Louis Blues','Detroit Red Wings','Tampa Bay Lightning']\n",
    "playoffs_14_15 = ['Chicago Blackhawks','Tampa Bay Lightning','Anaheim Ducks','New York Rangers','Washington Capitals','Montreal Canadiens','Calgary Flames','Minnesota Wild','New York Islanders','Detroit Red Wings','Ottawa Senators','Nashville Predators','Vancouver Canucks','St Louis Blues','Pittsburgh Penguins','Winnipeg Jets']\n",
    "playoffs_15_16 = ['Pittsburgh Penguins','San Jose Sharks','Tampa Bay Lightning','St Louis Blues','Dallas Stars','Nashville Predators','Washington Capitals','New York Islanders','Chicago Blackhawks','Anaheim Ducks','Minnesota Wild','Florida Panthers','Philadelphia Flyers','New York Rangers','Detroit Red Wings','Los Angeles Kings']\n",
    "playoffs_16_17 = ['Pittsburgh Penguins','Nashville Predators','Ottawa Senators','Anaheim Ducks','Edmonton Oilers','Washington Capitals','St Louis Blues','New York Rangers','San Jose Sharks','Montreal Canadiens','Boston Bruins','Toronto Maple Leafs','Minnesota Wild','Columbus Blue Jackets','Calgary Flames','Chicago Blackhawks']\n",
    "playoffs_17_18 = ['Washington Capitals','Vegas Golden Knights','Tampa Bay Lightning','Winnipeg Jets','Nashville Predators','San Jose Sharks','Pittsburgh Penguins','Boston Bruins','Toronto Maple Leafs','Philadelphia Flyers','Colorado Avalanche','Columbus Blue Jackets','Minnesota Wild','New Jersey Devils','Los Angeles Kings','Anaheim Ducks']"
   ]
  },
  {
   "cell_type": "code",
   "execution_count": 43,
   "id": "2291b7a8",
   "metadata": {},
   "outputs": [],
   "source": [
    "make_playoff_team(playoffs_07_08, teams_07_08)\n",
    "make_playoff_team(playoffs_08_09, teams_08_09)\n",
    "make_playoff_team(playoffs_09_10, teams_09_10)\n",
    "make_playoff_team(playoffs_10_11, teams_10_11)\n",
    "make_playoff_team(playoffs_11_12, teams_11_12)\n",
    "make_playoff_team(playoffs_13_14, teams_13_14)\n",
    "make_playoff_team(playoffs_14_15, teams_14_15)\n",
    "make_playoff_team(playoffs_15_16, teams_15_16)\n",
    "make_playoff_team(playoffs_16_17, teams_16_17)\n",
    "make_playoff_team(playoffs_17_18, teams_17_18)"
   ]
  },
  {
   "cell_type": "markdown",
   "id": "9b91a14e",
   "metadata": {},
   "source": [
    "### Data preparation\n",
    "*By Sankaranarayanan Balasubramanian and Chun-Li*\n",
    "\n",
    "The following data preparation steps helped us to prepare our data for implementing various modeling / validation techniques:\n",
    "\n",
    "1. Since we need to predict house price, we derived some new predictors *(from existing predictors)* that intuitively seem to be helpuful to predict house price. \n",
    "\n",
    "2. We have shuffled the dataset to prepare it for K-fold cross validation.\n",
    "\n",
    "3. We have created a standardized version of the dataset, as we will use it to develop Lasso / Ridge regression models."
   ]
  },
  {
   "cell_type": "code",
   "execution_count": 3,
   "id": "77b2b85a",
   "metadata": {},
   "outputs": [],
   "source": [
    "######---------------Creating new predictors----------------#########\n",
    "\n",
    "#Creating number of bedrooms per unit floor area\n",
    "\n",
    "#Creating ratio of bathrooms to bedrooms\n",
    "\n",
    "#Creating ratio of carpet area to floor area"
   ]
  },
  {
   "cell_type": "code",
   "execution_count": null,
   "id": "e4e04063",
   "metadata": {},
   "outputs": [],
   "source": [
    "######-----------Shuffling the dataset for K-fold------------#########"
   ]
  },
  {
   "cell_type": "code",
   "execution_count": null,
   "id": "2cecc4d7",
   "metadata": {},
   "outputs": [],
   "source": [
    "######-----Standardizing the dataset for Lasso / Ridge-------#########"
   ]
  },
  {
   "cell_type": "markdown",
   "id": "fbb11c9b",
   "metadata": {},
   "source": [
    "## Exploratory data analysis"
   ]
  },
  {
   "cell_type": "markdown",
   "id": "e4bd74a9",
   "metadata": {},
   "source": [
    "Put code with comments. The comments should explain the code such that it can be easily understood. You may put text *(in a markdown cell)* before a large chunk of code to explain the overall purpose of the code, if it is not intuitive. **Put the name of the person / persons who contributed to each code chunk / set of code chunks.**"
   ]
  },
  {
   "cell_type": "markdown",
   "id": "acab331a",
   "metadata": {},
   "source": [
    "## Developing the model"
   ]
  },
  {
   "cell_type": "markdown",
   "id": "ae5ec4c9",
   "metadata": {},
   "source": [
    "Put code with comments. The comments should explain the code such that it can be easily understood. You may put text *(in a markdown cell)* before a large chunk of code to explain the overall purpose of the code, if it is not intuitive. **Put the name of the person / persons who contributed to each code chunk / set of code chunks.**"
   ]
  },
  {
   "cell_type": "markdown",
   "id": "6444e611",
   "metadata": {},
   "source": [
    "### Code fitting the final model"
   ]
  },
  {
   "cell_type": "markdown",
   "id": "f6cae72f",
   "metadata": {},
   "source": [
    "Put the code(s) that fit the final model(s) in separate cell(s), i.e., the code with the `.ols()` or `.logit()` functions."
   ]
  },
  {
   "cell_type": "markdown",
   "id": "62a185cb",
   "metadata": {},
   "source": [
    "## Conclusions and Recommendations to stakeholder(s)\n",
    "\n",
    "You may or may not have code to put in this section. Delete this section if it is irrelevant."
   ]
  }
 ],
 "metadata": {
  "kernelspec": {
   "display_name": "Python 3 (ipykernel)",
   "language": "python",
   "name": "python3"
  },
  "language_info": {
   "codemirror_mode": {
    "name": "ipython",
    "version": 3
   },
   "file_extension": ".py",
   "mimetype": "text/x-python",
   "name": "python",
   "nbconvert_exporter": "python",
   "pygments_lexer": "ipython3",
   "version": "3.9.12"
  }
 },
 "nbformat": 4,
 "nbformat_minor": 5
}
