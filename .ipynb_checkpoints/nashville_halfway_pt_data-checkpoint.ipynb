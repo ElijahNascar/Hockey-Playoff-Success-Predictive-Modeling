{
 "cells": [
  {
   "cell_type": "markdown",
   "id": "a68c8cd6",
   "metadata": {},
   "source": [
    "https://www.quanthockey.com/nhl/team-game-logs/nashville-predators-2022-23-nhl-game-log.html"
   ]
  },
  {
   "cell_type": "code",
   "execution_count": 20,
   "id": "3c4ff7e4",
   "metadata": {},
   "outputs": [],
   "source": [
    "import pandas as pd\n",
    "import datetime as dt"
   ]
  },
  {
   "cell_type": "code",
   "execution_count": 6,
   "id": "f15c72cf",
   "metadata": {},
   "outputs": [],
   "source": [
    "data = pd.read_csv('data_raw/QuantHockey.csv')"
   ]
  },
  {
   "cell_type": "code",
   "execution_count": 8,
   "id": "c40319d3",
   "metadata": {},
   "outputs": [],
   "source": [
    "data.drop('Unnamed: 0', axis = 1, inplace = True)"
   ]
  },
  {
   "cell_type": "code",
   "execution_count": 10,
   "id": "79f48879",
   "metadata": {},
   "outputs": [],
   "source": [
    "data.columns = data.iloc[0]"
   ]
  },
  {
   "cell_type": "code",
   "execution_count": 16,
   "id": "a358b30a",
   "metadata": {},
   "outputs": [],
   "source": [
    "data.drop(0, inplace = True)"
   ]
  },
  {
   "cell_type": "code",
   "execution_count": 22,
   "id": "f2cb0b48",
   "metadata": {},
   "outputs": [],
   "source": [
    "data['Date']= pd.to_datetime(data['Date'])"
   ]
  },
  {
   "cell_type": "code",
   "execution_count": 28,
   "id": "7be09543",
   "metadata": {},
   "outputs": [],
   "source": [
    "half_of_games = data[data['Date'] <= '2023-01-11']"
   ]
  },
  {
   "cell_type": "code",
   "execution_count": 29,
   "id": "20925d6e",
   "metadata": {},
   "outputs": [
    {
     "data": {
      "text/plain": [
       "40"
      ]
     },
     "execution_count": 29,
     "metadata": {},
     "output_type": "execute_result"
    }
   ],
   "source": [
    "len(half_of_games)"
   ]
  },
  {
   "cell_type": "code",
   "execution_count": 38,
   "id": "dc889549",
   "metadata": {},
   "outputs": [
    {
     "name": "stderr",
     "output_type": "stream",
     "text": [
      "C:\\Users\\csky2\\AppData\\Local\\Temp\\ipykernel_20744\\603097154.py:1: SettingWithCopyWarning: \n",
      "A value is trying to be set on a copy of a slice from a DataFrame\n",
      "\n",
      "See the caveats in the documentation: https://pandas.pydata.org/pandas-docs/stable/user_guide/indexing.html#returning-a-view-versus-a-copy\n",
      "  half_of_games.rename({'Loc.': 'Loc'}, axis = 1, inplace = True)\n"
     ]
    }
   ],
   "source": [
    "half_of_games.rename({'Loc.': 'Loc'}, axis = 1, inplace = True)"
   ]
  },
  {
   "cell_type": "code",
   "execution_count": 50,
   "id": "a503c866",
   "metadata": {},
   "outputs": [
    {
     "data": {
      "text/plain": [
       "array(['Loss', 'Win', 'OT Loss', 'OT Win', 'SO Win', 'SO Loss'],\n",
       "      dtype=object)"
      ]
     },
     "execution_count": 50,
     "metadata": {},
     "output_type": "execute_result"
    }
   ],
   "source": [
    "half_of_games.Result.unique()"
   ]
  },
  {
   "cell_type": "code",
   "execution_count": 39,
   "id": "15e7822a",
   "metadata": {},
   "outputs": [
    {
     "data": {
      "text/html": [
       "<div>\n",
       "<style scoped>\n",
       "    .dataframe tbody tr th:only-of-type {\n",
       "        vertical-align: middle;\n",
       "    }\n",
       "\n",
       "    .dataframe tbody tr th {\n",
       "        vertical-align: top;\n",
       "    }\n",
       "\n",
       "    .dataframe thead th {\n",
       "        text-align: right;\n",
       "    }\n",
       "</style>\n",
       "<table border=\"1\" class=\"dataframe\">\n",
       "  <thead>\n",
       "    <tr style=\"text-align: right;\">\n",
       "      <th></th>\n",
       "      <th>Loc</th>\n",
       "      <th>Result</th>\n",
       "    </tr>\n",
       "  </thead>\n",
       "  <tbody>\n",
       "    <tr>\n",
       "      <th>18</th>\n",
       "      <td>Away</td>\n",
       "      <td>Loss</td>\n",
       "    </tr>\n",
       "    <tr>\n",
       "      <th>19</th>\n",
       "      <td>Away</td>\n",
       "      <td>Win</td>\n",
       "    </tr>\n",
       "    <tr>\n",
       "      <th>20</th>\n",
       "      <td>Away</td>\n",
       "      <td>Win</td>\n",
       "    </tr>\n",
       "    <tr>\n",
       "      <th>21</th>\n",
       "      <td>Away</td>\n",
       "      <td>Win</td>\n",
       "    </tr>\n",
       "    <tr>\n",
       "      <th>22</th>\n",
       "      <td>Home</td>\n",
       "      <td>Win</td>\n",
       "    </tr>\n",
       "    <tr>\n",
       "      <th>23</th>\n",
       "      <td>Away</td>\n",
       "      <td>OT Loss</td>\n",
       "    </tr>\n",
       "    <tr>\n",
       "      <th>24</th>\n",
       "      <td>Away</td>\n",
       "      <td>Win</td>\n",
       "    </tr>\n",
       "    <tr>\n",
       "      <th>25</th>\n",
       "      <td>Home</td>\n",
       "      <td>Loss</td>\n",
       "    </tr>\n",
       "    <tr>\n",
       "      <th>26</th>\n",
       "      <td>Home</td>\n",
       "      <td>OT Loss</td>\n",
       "    </tr>\n",
       "    <tr>\n",
       "      <th>27</th>\n",
       "      <td>Away</td>\n",
       "      <td>Win</td>\n",
       "    </tr>\n",
       "    <tr>\n",
       "      <th>28</th>\n",
       "      <td>Home</td>\n",
       "      <td>OT Win</td>\n",
       "    </tr>\n",
       "    <tr>\n",
       "      <th>29</th>\n",
       "      <td>Away</td>\n",
       "      <td>Loss</td>\n",
       "    </tr>\n",
       "    <tr>\n",
       "      <th>30</th>\n",
       "      <td>Away</td>\n",
       "      <td>OT Loss</td>\n",
       "    </tr>\n",
       "    <tr>\n",
       "      <th>31</th>\n",
       "      <td>Home</td>\n",
       "      <td>Loss</td>\n",
       "    </tr>\n",
       "    <tr>\n",
       "      <th>32</th>\n",
       "      <td>Away</td>\n",
       "      <td>OT Loss</td>\n",
       "    </tr>\n",
       "    <tr>\n",
       "      <th>33</th>\n",
       "      <td>Home</td>\n",
       "      <td>Loss</td>\n",
       "    </tr>\n",
       "    <tr>\n",
       "      <th>34</th>\n",
       "      <td>Away</td>\n",
       "      <td>Loss</td>\n",
       "    </tr>\n",
       "    <tr>\n",
       "      <th>35</th>\n",
       "      <td>Away</td>\n",
       "      <td>Win</td>\n",
       "    </tr>\n",
       "    <tr>\n",
       "      <th>36</th>\n",
       "      <td>Away</td>\n",
       "      <td>OT Win</td>\n",
       "    </tr>\n",
       "    <tr>\n",
       "      <th>37</th>\n",
       "      <td>Home</td>\n",
       "      <td>OT Win</td>\n",
       "    </tr>\n",
       "    <tr>\n",
       "      <th>38</th>\n",
       "      <td>Away</td>\n",
       "      <td>Loss</td>\n",
       "    </tr>\n",
       "    <tr>\n",
       "      <th>39</th>\n",
       "      <td>Home</td>\n",
       "      <td>SO Win</td>\n",
       "    </tr>\n",
       "    <tr>\n",
       "      <th>40</th>\n",
       "      <td>Home</td>\n",
       "      <td>OT Loss</td>\n",
       "    </tr>\n",
       "    <tr>\n",
       "      <th>41</th>\n",
       "      <td>Home</td>\n",
       "      <td>Win</td>\n",
       "    </tr>\n",
       "    <tr>\n",
       "      <th>42</th>\n",
       "      <td>Home</td>\n",
       "      <td>Win</td>\n",
       "    </tr>\n",
       "    <tr>\n",
       "      <th>43</th>\n",
       "      <td>Home</td>\n",
       "      <td>Win</td>\n",
       "    </tr>\n",
       "    <tr>\n",
       "      <th>44</th>\n",
       "      <td>Away</td>\n",
       "      <td>Loss</td>\n",
       "    </tr>\n",
       "    <tr>\n",
       "      <th>45</th>\n",
       "      <td>Away</td>\n",
       "      <td>Loss</td>\n",
       "    </tr>\n",
       "    <tr>\n",
       "      <th>46</th>\n",
       "      <td>Away</td>\n",
       "      <td>SO Win</td>\n",
       "    </tr>\n",
       "    <tr>\n",
       "      <th>47</th>\n",
       "      <td>Away</td>\n",
       "      <td>Win</td>\n",
       "    </tr>\n",
       "    <tr>\n",
       "      <th>48</th>\n",
       "      <td>Away</td>\n",
       "      <td>Loss</td>\n",
       "    </tr>\n",
       "    <tr>\n",
       "      <th>49</th>\n",
       "      <td>Home</td>\n",
       "      <td>Loss</td>\n",
       "    </tr>\n",
       "    <tr>\n",
       "      <th>50</th>\n",
       "      <td>Home</td>\n",
       "      <td>Win</td>\n",
       "    </tr>\n",
       "    <tr>\n",
       "      <th>51</th>\n",
       "      <td>Home</td>\n",
       "      <td>Loss</td>\n",
       "    </tr>\n",
       "    <tr>\n",
       "      <th>52</th>\n",
       "      <td>Away</td>\n",
       "      <td>Loss</td>\n",
       "    </tr>\n",
       "    <tr>\n",
       "      <th>53</th>\n",
       "      <td>Home</td>\n",
       "      <td>SO Loss</td>\n",
       "    </tr>\n",
       "    <tr>\n",
       "      <th>54</th>\n",
       "      <td>Away</td>\n",
       "      <td>Loss</td>\n",
       "    </tr>\n",
       "    <tr>\n",
       "      <th>55</th>\n",
       "      <td>Home</td>\n",
       "      <td>Loss</td>\n",
       "    </tr>\n",
       "    <tr>\n",
       "      <th>56</th>\n",
       "      <td>Away</td>\n",
       "      <td>Win</td>\n",
       "    </tr>\n",
       "    <tr>\n",
       "      <th>57</th>\n",
       "      <td>Home</td>\n",
       "      <td>Win</td>\n",
       "    </tr>\n",
       "  </tbody>\n",
       "</table>\n",
       "</div>"
      ],
      "text/plain": [
       "0    Loc   Result\n",
       "18  Away     Loss\n",
       "19  Away      Win\n",
       "20  Away      Win\n",
       "21  Away      Win\n",
       "22  Home      Win\n",
       "23  Away  OT Loss\n",
       "24  Away      Win\n",
       "25  Home     Loss\n",
       "26  Home  OT Loss\n",
       "27  Away      Win\n",
       "28  Home   OT Win\n",
       "29  Away     Loss\n",
       "30  Away  OT Loss\n",
       "31  Home     Loss\n",
       "32  Away  OT Loss\n",
       "33  Home     Loss\n",
       "34  Away     Loss\n",
       "35  Away      Win\n",
       "36  Away   OT Win\n",
       "37  Home   OT Win\n",
       "38  Away     Loss\n",
       "39  Home   SO Win\n",
       "40  Home  OT Loss\n",
       "41  Home      Win\n",
       "42  Home      Win\n",
       "43  Home      Win\n",
       "44  Away     Loss\n",
       "45  Away     Loss\n",
       "46  Away   SO Win\n",
       "47  Away      Win\n",
       "48  Away     Loss\n",
       "49  Home     Loss\n",
       "50  Home      Win\n",
       "51  Home     Loss\n",
       "52  Away     Loss\n",
       "53  Home  SO Loss\n",
       "54  Away     Loss\n",
       "55  Home     Loss\n",
       "56  Away      Win\n",
       "57  Home      Win"
      ]
     },
     "execution_count": 39,
     "metadata": {},
     "output_type": "execute_result"
    }
   ],
   "source": [
    "half_of_games[['Loc', 'Result']]"
   ]
  },
  {
   "cell_type": "code",
   "execution_count": 55,
   "id": "5326a4f6",
   "metadata": {},
   "outputs": [
    {
     "data": {
      "text/plain": [
       "10"
      ]
     },
     "execution_count": 55,
     "metadata": {},
     "output_type": "execute_result"
    }
   ],
   "source": [
    "#away wins\n",
    "away_wins = half_of_games[(half_of_games['Loc'] == 'Away') & ((half_of_games['Result'] == 'Win') | (half_of_games['Result'] == 'OT Win') | (half_of_games['Result'] == 'SO Win'))]\n",
    "len(away_wins)"
   ]
  },
  {
   "cell_type": "code",
   "execution_count": 56,
   "id": "269dc1b7",
   "metadata": {},
   "outputs": [
    {
     "data": {
      "text/plain": [
       "9"
      ]
     },
     "execution_count": 56,
     "metadata": {},
     "output_type": "execute_result"
    }
   ],
   "source": [
    "# home wins\n",
    "home_wins = half_of_games[(half_of_games['Loc'] == 'Home') & ((half_of_games['Result'] == 'Win') | (half_of_games['Result'] == 'OT Win') | (half_of_games['Result'] == 'SO Win'))]\n",
    "len(home_wins)"
   ]
  },
  {
   "cell_type": "code",
   "execution_count": 58,
   "id": "010f15d3",
   "metadata": {},
   "outputs": [
    {
     "data": {
      "text/plain": [
       "9"
      ]
     },
     "execution_count": 58,
     "metadata": {},
     "output_type": "execute_result"
    }
   ],
   "source": [
    "# home losses\n",
    "home_losses = half_of_games[(half_of_games['Loc'] == 'Home') & ((half_of_games['Result'] == 'Loss') | (half_of_games['Result'] == 'OT Loss') | (half_of_games['Result'] == 'SO Loss'))]\n",
    "len(home_losses)"
   ]
  },
  {
   "cell_type": "code",
   "execution_count": 61,
   "id": "eef2efa8",
   "metadata": {},
   "outputs": [
    {
     "data": {
      "text/plain": [
       "12"
      ]
     },
     "execution_count": 61,
     "metadata": {},
     "output_type": "execute_result"
    }
   ],
   "source": [
    "#  away losses\n",
    "away_losses = half_of_games[(half_of_games['Loc'] == 'Away') & ((half_of_games['Result'] == 'Loss') | (half_of_games['Result'] == 'OT Loss') | (half_of_games['Result'] == 'SO Loss'))]\n",
    "len(away_losses)"
   ]
  },
  {
   "cell_type": "code",
   "execution_count": 70,
   "id": "9cfb20b9",
   "metadata": {},
   "outputs": [
    {
     "data": {
      "text/plain": [
       "112"
      ]
     },
     "execution_count": 70,
     "metadata": {},
     "output_type": "execute_result"
    }
   ],
   "source": [
    "# Goals for\n",
    "sum(half_of_games.GF.apply(lambda x: int(x)))"
   ]
  },
  {
   "cell_type": "code",
   "execution_count": 71,
   "id": "a59c98d6",
   "metadata": {},
   "outputs": [
    {
     "data": {
      "text/plain": [
       "117"
      ]
     },
     "execution_count": 71,
     "metadata": {},
     "output_type": "execute_result"
    }
   ],
   "source": [
    "# Goals against\n",
    "sum(half_of_games.GA.apply(lambda x: int(x)))"
   ]
  }
 ],
 "metadata": {
  "kernelspec": {
   "display_name": "Python 3 (ipykernel)",
   "language": "python",
   "name": "python3"
  },
  "language_info": {
   "codemirror_mode": {
    "name": "ipython",
    "version": 3
   },
   "file_extension": ".py",
   "mimetype": "text/x-python",
   "name": "python",
   "nbconvert_exporter": "python",
   "pygments_lexer": "ipython3",
   "version": "3.9.12"
  }
 },
 "nbformat": 4,
 "nbformat_minor": 5
}
