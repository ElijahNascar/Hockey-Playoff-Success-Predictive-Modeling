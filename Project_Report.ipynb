{
 "cells": [
  {
   "cell_type": "raw",
   "id": "33dd6c4c",
   "metadata": {},
   "source": [
    "---\n",
    "title: \"Project Report\"\n",
    "subtitle: Krish's Fanclub\n",
    "author: Tess Wagner, Sam Sword, Jack McNally, and Eli Nacar \n",
    "date: 03/13/2023\n",
    "number-sections: true\n",
    "abstract: _The ABSTRACT is to be in fully-justified italicized text at the top of the report, below the author information. The abstract section must summarise the problem statement, the developed model(s), the metric(s) optimized and the recommendations to the stakeholders based on the model. You may also briefly mention any major EDA-based insights that helped develop the model or directly translated into recommendations to the stakeholders. However, the abstract must not be more than 200 words in length_.\n",
    "format: \n",
    "  html:\n",
    "    toc: true\n",
    "    toc-title: Contents\n",
    "    self-contained: true\n",
    "    font-size: 100%\n",
    "    toc-depth: 4\n",
    "    mainfont: serif\n",
    "jupyter: python3\n",
    "---"
   ]
  },
  {
   "cell_type": "markdown",
   "id": "aba5ee91",
   "metadata": {},
   "source": [
    "## Length of the report {-}\n",
    "The length of the report must be no more than 15 pages, when printed as PDF. However, there is no requirement on the minimum number of pages.\n",
    "\n",
    "You may put additional stuff as Appendix. You may refer to the Appendix in the main report to support your arguments. However, your appendix is unlikely to be checked while grading, unless the grader deems it necessary. The appendix, references, and information about GitHub and individual contribution will not be included in the page count, and there is no limit on the length of the appendix.\n",
    "\n",
    "**Delete this section from the report, when using this template.** "
   ]
  },
  {
   "cell_type": "markdown",
   "id": "93d3d9ed",
   "metadata": {},
   "source": [
    "## Code should be put separately in the code template {-}\n",
    "Your report should be in a research-paper like style. If there is something that can only be explained by showing the code, then you may put it, otherwise do not put the code in the report. We will check your code in the code template. \n",
    "\n",
    "**Delete this section from the report, when using this template.** "
   ]
  },
  {
   "cell_type": "markdown",
   "id": "0116f49b",
   "metadata": {},
   "source": [
    "## Background / Motivation\n",
    "\n",
    "What motivated you to work on this problem?\n",
    "\n",
    "Mention any background about the problem, if it is required to understand your analysis later on."
   ]
  },
  {
   "cell_type": "markdown",
   "id": "3fa7c956",
   "metadata": {},
   "source": [
    "\n",
    "\n",
    "\tWhen considering topics for this project, Krish’s Fanclub first looked to apply data science to their collective interests. After deliberation, it became clear that in addition to a deep love for Python and statistics, as a group, we were also united by our interest in sports. So, as Northwestern students in the greater Chicago area, we first looked to focus our project on the main professional teams in Chicago: The Bulls, The Blackhawks, The Bears, and The Chicago Fire. We decided to center our project on The Blackhawks as the NHL season is in progress throughout all of winter quarter. When the project first started, the NHL season was around its halfway point. At this stage it can become clear which teams are the strongest, which are on the fence for reaching playoffs, and which teams are clearly out of the race for the postseason. With this in mind, Krish’s Fanclub took interest in determining the The Blackhawks’ chances in reaching the playoffs. This season The Blackhawks are playing very poorly, and it became clear upon inspection that any data analysis related to playoff chances would most likely produce results stating that The Blackhawks would not reach the postseason. For this reason, we turned our attention to The Nashville Predators, a team on the fence for playoff contention. \n",
    "\t\n",
    "\tData analytics has become more and more prevalent in the sports world. Now, MVP conversations, potential personnel lineups, and the chances of a team winning a game all include numbers and statistics. The power of analytics and its implications in the sports world were highlighted in the popular movie Moneyball. The film tells the true story of how the general manager for the baseball team the Oakland A’s used analytics to build a team and win games on an unprecedented level. Most professional sports teams today now have dedicated analytics teams to reveal insights that may give a winning edge. Motivated by this widespread movement, Krish’s fanclub decided to look at the Nashville Predators chances of reaching playoffs with the implications that the insight could potentially develop a clear strategy enabling the team to reach the postseason.\n"
   ]
  },
  {
   "cell_type": "markdown",
   "id": "84ff1421",
   "metadata": {},
   "source": [
    "## Problem statement \n",
    "\n",
    "Describe your problem statement. Articulate your objectives using absolutely no jargon. Interpret the problem as inference and/or prediction."
   ]
  },
  {
   "cell_type": "markdown",
   "id": "1e6ab4a0",
   "metadata": {},
   "source": [
    "The Nashville Predators, like any other NHL team, aspires to qualify for the playoffs. At the start of this project around halfway through the season, with 23 wins and 18 losses, the Predators chance to make the playoffs was slim. The objective of this research was to develop a linear regression model that predicted what the Nashville Predators had to do in the second half of their season to secure a playoff spot. To achieve this goal, we planned to train our model on data from the last 10 years of NHL teams that made the playoffs, incorporating factors such as wins, losses, home and away games, and goal differential.\n",
    "\n",
    "With the availability of information on professional sports publicly available, the data analyzed from this project was planned to be taken from sources such as NHL.com and Hockey-Reference.com. We planned to select the last 10 years of data as this provided a reasonable time frame that captured recent trends in the league. We also focused on teams that qualified for the playoffs in these years, as they represented a successful subset of the league. Factors such as wins, losses, home and away games, and goal differential were considered, as they were known to have a significant impact on team success.\n",
    "\n",
    "Since we were dealing with features that belong to both playoff and non-playoff teams, we knew we were dealing with a classification problem. Our goal was to develop a predictive model that could accurately classify a team as a playoff or non-playoff team based on their performance in the first half of the season. To evaluate the accuracy of our model, we sought to test it on a randomly selected playoff team from each of the 10 seasons, which was excluded from the training dataset. The false positive and false negative rates will be used to calculate the precision of our model, ensuring that it provides dependable predictions.\n",
    "\n",
    "To improve the model, we used the strongest predictors and performed transformations to achieve a better fit. After building a classification model, we planned to perform exploratory analysis in order to find the qualities of playoff teams. With this insight, we hoped to build a strategy that the Predator’s could implement to reach the playoffs. With insight that certain factors are more valuable than others, a strategy could allow the Predators to focus efforts on areas that have the largest impact on reaching the postseason. \n",
    "\n",
    "Ultimately, our research aimed to provide the Nashville Predators with valuable insights into their odds for reaching the playoffs and what they needed to do to qualify. By developing a data-driven approach to team performance, we hope to contribute to the ongoing efforts to improve the team's success on the ice.\n"
   ]
  },
  {
   "cell_type": "markdown",
   "id": "38c7b95f",
   "metadata": {},
   "source": [
    "## Data sources\n",
    "What data did you use? Provide details about your data. Include links to data if you are using open-access data."
   ]
  },
  {
   "cell_type": "markdown",
   "id": "03cd853c",
   "metadata": {},
   "source": [
    "The data from this project came from three major sources. The first was a public Kaggle dataset with statistics on the NHL seasons from 2000 to 2020. This dataset included information including each match in the season, the competitors, the result, and whether it was a regular season game or not. This dataset provided the majority of the data that was analyzed and allowed us to look at win totals and goal differentials as a predictor for reaching the postseason. \n",
    "\n",
    "The second and third main datasets used provided current season statistics for the Nashville Predators. With this information, we could evaluate the current success of the team and predict playoff odds based on a variety of predictors. These datasets were from QuantHockey.com and hockey-reference.com which provide publicly available hockey statistics on the NHL. Both of these datasets contributed similar insight as the Kaggle dataset such as team record, game results, away/home status for those games, and game scores.\n",
    "\tThe websites for these datasets are as follows:\n",
    "\n",
    "https://www.kaggle.com/datasets/martinellis/nhl-game-data\n",
    "https://www.quanthockey.com/nhl/team-game-logs/nashville-predators-2022-23-nhl-game-log.html\n",
    "https://www.hockey-reference.com/leagues/NHL_2023_games.html\n"
   ]
  },
  {
   "cell_type": "markdown",
   "id": "8c255035",
   "metadata": {},
   "source": [
    "## Stakeholders\n",
    "Who cares? If you are successful, what difference will it make to them?"
   ]
  },
  {
   "cell_type": "markdown",
   "id": "fa21ba59",
   "metadata": {},
   "source": [
    "The three main stakeholders identified that could benefit from our project were The Nashville Predators organization, sports betting companies, and Predators fans. The Nashville Predators organization were classified as stakeholders as insight into how to reach playoffs and the odds of reaching playoffs could be very valuable for the general manager as well as coaches and players. If a strategy to reach the playoffs could be formulated, then coaches could focus their efforts in certain areas that would have the most effect on the team’s success. Coaches could know when to rest players on games that were less important, and when to play the best players for vital games. For a general manager who runs the organization at a higher level, insight from our project could help the manager decide on coaching staff to reach the playoffs. Before our analysis, we rationalized that if away wins were identified to be more important than home wins, then a general manager might focus on finding coaches who were more successful at getting teams to win at away games.\n",
    "\t\n",
    "Sports betting companies were identified as stakeholders due to the connection between sports betting and analytics. Sports betting lines attempt to emulate the odds of certain outcomes while also adjusting to the money placed on either side of the bet. In order to create these lines, sports betting organizations use complex algorithms taking in many predictors and past information as a base point. Oftentimes, sports betting lines reflect the probability events will occur in the form of the payouts they generate. Sports betting companies could benefit from our project if we are successful as our insight may help these companies adjust their betting lines to be more in line with our predicted odds that the Predators’ reach the playoffs. \n",
    "\t\n",
    "Dedicated fans of sports teams consume large amounts of information on their favorite teams. This is evident from media sources such as The Athletic which provides fans with news on each of their favorite teams. Some of the most popular information on sports teams is a team’s success and their odds of reaching the playoffs. If our project is successful, dedicated Predators’ fans will want to understand our results in order to learn more about their team’s current standing. Furthermore, media outlets spreading information about the Predator’s will find our results relevant and a potential source of revenue for generating views to their websites and publications. \n"
   ]
  },
  {
   "cell_type": "markdown",
   "id": "fe7ea9bb",
   "metadata": {},
   "source": [
    "## Data quality check / cleaning / preparation \n",
    "\n",
    "In a tabular form, show the distribution of values of each variable used in the analysis - for both categorical and continuous variables. Distribution of a categorical variable must include the number of missing values, the number of unique values, the frequency of all its levels. If a categorical variable has too many levels, you may just include the counts of the top 3-5 levels. \n",
    "\n",
    "If the tables in this section take too much space, you may put them in the appendix, and just mention any useful insights you obtained from the data quality check that helped you develop the model or helped you realize the necessary data cleaning / preparation.\n",
    "\n",
    "Were there any potentially incorrect values of variables that required cleaning? If yes, how did you clean them? \n",
    "\n",
    "Did you do any data wrangling or data preparation before the data was ready to use for model development? Did you create any new predictors from exisiting predictors? For example, if you have number of transactions and spend in a credit card dataset, you may create spend per transaction for predicting if a customer pays their credit card bill. Mention the steps at a broad level, you may put minor details in the appendix. Only mention the steps that ended up being useful towards developing your final model(s)."
   ]
  },
  {
   "cell_type": "markdown",
   "id": "fbb11c9b",
   "metadata": {},
   "source": [
    "## Exploratory data analysis"
   ]
  },
  {
   "cell_type": "markdown",
   "id": "e4bd74a9",
   "metadata": {},
   "source": [
    "Put the relevant EDA here (visualizations, tables, etc.) that helped you figure out useful predictors for developing the model(s). Only put the EDA that ended up being useful towards developing your final model(s). \n",
    "\n",
    "List the insights (as bullet points) you got from EDA that ended up being useful towards developing your final model. \n",
    "\n",
    "Again, if there are too many plots / tables, you may put them into appendix, and just mention the insights you got from them."
   ]
  },
  {
   "cell_type": "markdown",
   "id": "d39c782c",
   "metadata": {},
   "source": [
    "## Approach\n",
    "\n",
    "What kind of a model (linear / logistic / other) did you use? What performance metric(s) did you optimize and why?\n",
    "\n",
    "Is there anything unorthodox / new in your approach? \n",
    "\n",
    "What problems did you anticipate? What problems did you encounter? Did the very first model you tried work? \n",
    "\n",
    "Did your problem already have solution(s) (posted on Kaggle or elsewhere). If yes, then how did you build upon those solutions, what did you do differently? Is your model better as compared to those solutions in terms of prediction / inference?\n",
    "\n",
    "**Important: Mention any code repositories (with citations) or other sources that you used, and specifically what changes you made to them for your project.**"
   ]
  },
  {
   "cell_type": "markdown",
   "id": "acab331a",
   "metadata": {},
   "source": [
    "## Developing the model"
   ]
  },
  {
   "cell_type": "markdown",
   "id": "ae5ec4c9",
   "metadata": {},
   "source": [
    "Explain the steps taken to develop and improve the base model - informative visualizations / addressing modeling assumption violations / variable transformation / interactions / outlier treatment / influential points treatment / addressing over-fitting / addressing multicollinearity / variable selection - stepwise regression, lasso, ridge regression). \n",
    "\n",
    "Did you succeed in achieving your goal, or did you fail? Why?\n",
    "\n",
    "**Put the final model equation**.\n",
    "\n",
    "**Important: This section should be rigorous and thorough. Present detailed information about decision you made, why you made them, and any evidence/experimentation to back them up.**"
   ]
  },
  {
   "cell_type": "markdown",
   "id": "1b46343d",
   "metadata": {},
   "source": [
    "## Limitations of the model with regard to inference / prediction"
   ]
  },
  {
   "cell_type": "markdown",
   "id": "c85ead90",
   "metadata": {},
   "source": [
    "If it is inference, will the inference hold for a certain period of time, for a certain subset of population, and / or for certain conditions.\n",
    "\n",
    "If it is prediction, then will it be possible / convenient / expensive for the stakeholders to collect the data relating to the predictors in the model. Using your model, how soon will the stakeholder be able to predict the outcome before the outcome occurs. For example, if the model predicts the number of bikes people will rent in Evanston on a certain day, then how many days before that day will your model be able to make the prediction. This will depend on how soon the data that your model uses becomes available. If you are predicting election results, how many days / weeks / months / years before the election can you predict the results. \n",
    "\n",
    "When will your model become too obsolete to be useful?"
   ]
  },
  {
   "cell_type": "markdown",
   "id": "f6026cb7",
   "metadata": {},
   "source": [
    "## Other sections *(optional)*\n",
    "\n",
    "You are welcome to introduce additional sections or subsections, if required, to address any specific aspects of your project in detail. For example, you may briefly discuss potential future work that the research community could focus on to make further progress in the direction of your project's topic."
   ]
  },
  {
   "cell_type": "markdown",
   "id": "62a185cb",
   "metadata": {},
   "source": [
    "## Conclusions and Recommendations to stakeholder(s)\n",
    "\n",
    "What conclusions do you draw based on your model? If it is inference you may draw conclusions based on the coefficients, statistical significance of predictors / interactions, etc. If it is prediction, you may draw conclusions based on prediction accuracy, or other performance metrics.\n",
    "\n",
    "How do you use those conclusions to come up with meaningful recommendations for stakeholders? The recommendations must be action-items for stakeholders that they can directly implement without any further analysis. Be as precise as possible. The stakeholder(s) are depending on you to come up with practically implementable recommendations, instead of having to think for themselves.\n",
    "\n",
    "If your recommendations are not practically implementable by stakeholders, how will they help them? Is there some additional data / analysis / domain expertise you need to do to make the recommendations implementable? \n",
    "\n",
    "Do the stakeholder(s) need to be aware about some limitations of your model? Is your model only good for one-time use, or is it possible to update your model at a certain frequency (based on recent data) to keep using it in the future? If it can be used in the future, then for how far into the future?"
   ]
  },
  {
   "cell_type": "markdown",
   "id": "9c44497c",
   "metadata": {},
   "source": [
    "## GitHub and individual contribution {-}"
   ]
  },
  {
   "cell_type": "markdown",
   "id": "c98b3f66",
   "metadata": {},
   "source": [
    "Put the **Github link** for the project repository."
   ]
  },
  {
   "cell_type": "markdown",
   "id": "0ca45613",
   "metadata": {},
   "source": [
    "Add details of each team member's contribution in the table below."
   ]
  },
  {
   "cell_type": "markdown",
   "id": "5505da5c",
   "metadata": {},
   "source": [
    "<html>\n",
    "<style>\n",
    "table, td, th {\n",
    "  border: 1px solid black;\n",
    "}\n",
    "\n",
    "table {\n",
    "  border-collapse: collapse;\n",
    "  width: 100%;\n",
    "}\n",
    "\n",
    "th {\n",
    "  text-align: left;\n",
    "}\n",
    "    \n",
    "\n",
    "</style>\n",
    "<body>\n",
    "\n",
    "<h2>Individual contribution</h2>\n",
    "\n",
    "<table style=\"width:100%\">\n",
    "     <colgroup>\n",
    "       <col span=\"1\" style=\"width: 15%;\">\n",
    "       <col span=\"1\" style=\"width: 20%;\">\n",
    "       <col span=\"1\" style=\"width: 50%;\">\n",
    "       <col span=\"1\" style=\"width: 15%;\"> \n",
    "    </colgroup>\n",
    "  <tr>\n",
    "    <th>Team member</th>\n",
    "    <th>Contributed aspects</th>\n",
    "    <th>Details</th>\n",
    "    <th>Number of GitHub commits</th>\n",
    "  </tr>\n",
    "  <tr>\n",
    "    <td>Elton John</td>\n",
    "    <td>Data cleaning and EDA</td>\n",
    "    <td>Cleaned data to impute missing values and developed visualizations to identify appropriate variable transformations.</td>\n",
    "    <td>100</td>\n",
    "  </tr>\n",
    "  <tr>\n",
    "    <td>Xena Valenzuela</td>\n",
    "    <td>Assumptions and interactions</td>\n",
    "    <td>Checked and addressed modeling assumptions and identified relevant variable interactions.</td>\n",
    "    <td>120</td>\n",
    "  </tr>\n",
    "    <tr>\n",
    "    <td>Sankaranarayanan Balasubramanian</td>\n",
    "    <td>Outlier and influential points treatment</td>\n",
    "    <td>Identified outliers/influential points and analayzed their effect on the model.</td>\n",
    "    <td>130</td>    \n",
    "  </tr>\n",
    "    <tr>\n",
    "    <td>Chun-Li</td>\n",
    "    <td>Variable selection and addressing overfitting</td>\n",
    "    <td>Performed variable selection on an exhaustive set of predictors to address multicollinearity and overfitting.</td>\n",
    "    <td>150</td>    \n",
    "  </tr>\n",
    "</table>"
   ]
  },
  {
   "cell_type": "markdown",
   "id": "192bbd23",
   "metadata": {},
   "source": [
    "List the **challenges** you faced when collaborating with the team on GitHub. Are you comfortable using GitHub? \n",
    "Do you feel GitHuB made collaboration easier? If not, then why? *(Individual team members can put their opinion separately, if different from the rest of the team)*"
   ]
  },
  {
   "cell_type": "markdown",
   "id": "00b1cafe",
   "metadata": {},
   "source": [
    "## References {-}"
   ]
  },
  {
   "cell_type": "markdown",
   "id": "ebdb1aad",
   "metadata": {},
   "source": [
    "List and number all bibliographical references. When referenced in the text, enclose the citation number in square brackets, for example [1].\n",
    "\n",
    "[1] Authors. The frobnicatable foo filter, 2014. Face and Gesture submission ID 324. Supplied as additional material\n",
    "fg324.pdf. 3\n"
   ]
  },
  {
   "cell_type": "markdown",
   "id": "5831751c",
   "metadata": {},
   "source": [
    "## Appendix {-}"
   ]
  },
  {
   "cell_type": "markdown",
   "id": "d13d374d",
   "metadata": {},
   "source": [
    "You may put additional stuff here as Appendix. You may refer to the Appendix in the main report to support your arguments. However, the appendix section is unlikely to be checked while grading, unless the grader deems it necessary."
   ]
  }
 ],
 "metadata": {
  "kernelspec": {
   "display_name": "Python 3 (ipykernel)",
   "language": "python",
   "name": "python3"
  },
  "language_info": {
   "codemirror_mode": {
    "name": "ipython",
    "version": 3
   },
   "file_extension": ".py",
   "mimetype": "text/x-python",
   "name": "python",
   "nbconvert_exporter": "python",
   "pygments_lexer": "ipython3",
   "version": "3.9.13"
  }
 },
 "nbformat": 4,
 "nbformat_minor": 5
}
